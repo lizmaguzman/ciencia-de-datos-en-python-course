{
 "cells": [
  {
   "cell_type": "markdown",
   "metadata": {},
   "source": [
    "## GIT##"
   ]
  },
  {
   "cell_type": "markdown",
   "metadata": {},
   "source": [
    "#### ¿Qué es un sistema de control de versiones? ####"
   ]
  },
  {
   "cell_type": "markdown",
   "metadata": {},
   "source": [
    "Es una sistema que lleva el control y rastrea los cambios de un archivo, proyecto."
   ]
  },
  {
   "cell_type": "markdown",
   "metadata": {},
   "source": [
    "#### ¿Qué es GIT? ####"
   ]
  },
  {
   "cell_type": "markdown",
   "metadata": {},
   "source": [
    "Git se basa en el sistema de control de versiones. Almacenando en una carpeta creada de un directorio general, proyectos, archivos entre otros. Git facilita el trabajo colaborativo, debido a que todas las personas asignada a un proyecto puede acceder a dicha carpeta y crear una copia del proyecto original. También es de muchas utilidad para uso personal, debido a que se pueden ir visualizando las diferentes versiones de las tareas que se han empezado a llevar con git.\n",
    "\n",
    "Git registra una serie logs por cada cambio realizado entre los cuáles podemos mencionar:\n",
    "\n",
    "    -Quien escribió el módulo.\n",
    "\n",
    "    -Quién escribió la línea.\n",
    "\n",
    "    -Comentarios sobre los cambios.\n",
    "\n",
    "Algunos de los beneficios de git son:\n",
    "\n",
    "    -Al identificarse un error,por medio de los logs de registro y el id generado se puede situar en el momento exacto en el \n",
    "    que el código dejo de funcionar y aplicar una regresion.\n",
    "\n",
    "    -Trabajo colaborativo.\n",
    "\n",
    "Para git los diferentes objetos con los que vamos a interactuar, les asigna un nombre especifico:\n",
    "\n",
    "    -Tree=folder.\n",
    "\n",
    "    -Blobs=archivos.\n",
    "\n",
    "    -Commit=confirmacion de versiones.\n",
    "\n",
    "    -Hash=es el id que identifica a la acción realizada dentro de git.Se encuentra en hexagesimales.Este sistema lo que \n",
    "    realiza es convertir el nombre largo del identificar a uno mas corto entendible para el ser humano.\n",
    "\n",
    "**Como Funcion Git**\n",
    "\n",
    "En git se crea un repositorio en blanco , a este se le asignara o se guardará el archivo(blobs) que se desea empezar a rastrear con git. Se crea la instancia master en el árbol y sobre la misma es en dónde se empezarán a crear copias(ramas) para las diferentes actividades que se desean realizar. Cómo por ejemplo: reparar un error, realizar un cambio. agregar nueva funcionalidad. Cabe resaltar que con las copias mencionadas anteriormente , se pueden trabajar paralelamente, sin que una afecte el rendimiento de la otra o bien que interfiera. Pero si en el momento en el que se realice la fusión de ambos cambios ocurriera algún error, git informa de inmediato al usuario y le indica que debe de repararlo.\n",
    "\n",
    "Para lograr identificar los cambios , git se basa en el Hash del cambio que contiene a que árbol pertenece y la confirmación del mismo.\n",
    "\n",
    "**Ramas y fusiones**\n",
    "\n",
    "Las ramificaciones en git se le llaman a las copias de los blobs creados en el momento exacto de dónde nos ubicamos. Lo cuál nos permitirá regresar a ese momento si fuera necesario. Las fusiones es la unificación de los cambios realizados. Debemos de tener claro si queremos aprobar todos los cambios pendientes o bien solamente aprobar el último que se realizo. Para realizar esas acciones se utilizan los comandos: git add  git commit. Y para la creacion de ramas : git branch.\n",
    "\n",
    "Dentro de los comandos principales podemos mencionar:\n",
    "\n",
    "    -git log\n",
    "    \n",
    "    -git add \n",
    "    \n",
    "    -git commit\n",
    "    \n",
    "    -git checkout\n",
    "    \n",
    "    -git diff\n",
    "    \n",
    "    -git merge"
   ]
  },
  {
   "cell_type": "markdown",
   "metadata": {},
   "source": [
    "### Comentario ###"
   ]
  },
  {
   "cell_type": "markdown",
   "metadata": {},
   "source": [
    "1. Git es una herramienta muy poderosa, debido a que realiza el rastreo de cambios por nosotros. Ya que comúnmente creamos varias copias locales en nuestros equipos o bien en la nube que no en todos los casos , pero podemos perder la secuencia correcta de los cambios y realizar un re-trabajo.Tratando de dejar un única copia que contenga todos los cambios. O en el peor de los casos perder esos cambios."
   ]
  },
  {
   "cell_type": "markdown",
   "metadata": {},
   "source": [
    "### Conclusiones ###"
   ]
  },
  {
   "cell_type": "markdown",
   "metadata": {},
   "source": [
    "1. Git es utilizado mayormente para el desarrollo de software.\n",
    "2. Git no es lo mismo que Github. debido a que Github es solamente una plataforma que utiliza a git para el rastreo de cambios.\n",
    "   Pero en el mercado podemos encontrar a muchas mas plataformas que utilicen git."
   ]
  },
  {
   "cell_type": "markdown",
   "metadata": {},
   "source": [
    "### Ejemplos ####"
   ]
  },
  {
   "cell_type": "code",
   "execution_count": 4,
   "metadata": {},
   "outputs": [
    {
     "name": "stdout",
     "output_type": "stream",
     "text": [
      "Microsoft Windows [Versi¢n 10.0.19041.746]\r\n",
      "(c) 2020 Microsoft Corporation. Todos los derechos reservados.\r\n",
      "\r\n",
      "C:\\Users\\lizma\\Downloads>cd C:\\Users\\lizma\\ta\n",
      "\r\n",
      "C:\\Users\\lizma\\ta>\n",
      "C:\\Users\\lizma\\ta>git status\n",
      "On branch master\n",
      "Changes not staged for commit:\n",
      "  (use \"git add <file>...\" to update what will be committed)\n",
      "  (use \"git restore <file>...\" to discard changes in working directory)\n",
      "\tmodified:   uno.txt\n",
      "\n",
      "no changes added to commit (use \"git add\" and/or \"git commit -a\")\n",
      "\r\n",
      "C:\\Users\\lizma\\ta>"
     ]
    }
   ],
   "source": [
    "%%cmd\n",
    "cd C:\\Users\\lizma\\ta\n",
    "\n",
    "git status\n"
   ]
  },
  {
   "cell_type": "code",
   "execution_count": 6,
   "metadata": {},
   "outputs": [
    {
     "name": "stdout",
     "output_type": "stream",
     "text": [
      "Microsoft Windows [Versi¢n 10.0.19041.746]\r\n",
      "(c) 2020 Microsoft Corporation. Todos los derechos reservados.\r\n",
      "\r\n",
      "C:\\Users\\lizma\\Downloads>cd C:\\Users\\lizma\\ta\n",
      "\r\n",
      "C:\\Users\\lizma\\ta>\n",
      "C:\\Users\\lizma\\ta>git add uno.txt \n",
      "\r\n",
      "C:\\Users\\lizma\\ta>"
     ]
    }
   ],
   "source": [
    "%%cmd\n",
    "cd C:\\Users\\lizma\\ta\n",
    "\n",
    "git add uno.txt "
   ]
  },
  {
   "cell_type": "code",
   "execution_count": 8,
   "metadata": {},
   "outputs": [
    {
     "name": "stdout",
     "output_type": "stream",
     "text": [
      "Microsoft Windows [Versi¢n 10.0.19041.746]\r\n",
      "(c) 2020 Microsoft Corporation. Todos los derechos reservados.\r\n",
      "\r\n",
      "C:\\Users\\lizma\\Downloads>cd C:\\Users\\lizma\\ta\n",
      "\r\n",
      "C:\\Users\\lizma\\ta>    \n",
      "C:\\Users\\lizma\\ta>git commit uno.txt -m \"Primer Snapchot con hash\"\n",
      "[master 8bd5b0f] Primer Snapchot con hash\n",
      " 1 file changed, 2 insertions(+), 1 deletion(-)\n",
      "\r\n",
      "C:\\Users\\lizma\\ta>"
     ]
    }
   ],
   "source": [
    "%%cmd\n",
    "cd C:\\Users\\lizma\\ta\n",
    "    \n",
    "git commit uno.txt -m \"Primer Snapchot con hash\""
   ]
  },
  {
   "cell_type": "code",
   "execution_count": 10,
   "metadata": {},
   "outputs": [
    {
     "name": "stdout",
     "output_type": "stream",
     "text": [
      "Microsoft Windows [Versi¢n 10.0.19041.746]\r\n",
      "(c) 2020 Microsoft Corporation. Todos los derechos reservados.\r\n",
      "\r\n",
      "C:\\Users\\lizma\\Downloads>cd C:\\Users\\lizma\\ta\n",
      "\r\n",
      "C:\\Users\\lizma\\ta>git log\n",
      "commit 8bd5b0f3945d63c380cf57f1991da9f6848d61b8\n",
      "Author: LIZA GUZMAN <lizma.guzman@gmail.com>\n",
      "Date:   Wed Feb 10 22:11:33 2021 -0600\n",
      "\n",
      "    Primer Snapchot con hash\n",
      "\n",
      "commit 164c6685d7bd4b518cc6193ba4d59b6544e43a32\n",
      "Author: LIZA GUZMAN <lizma.guzman@gmail.com>\n",
      "Date:   Wed Feb 10 19:49:05 2021 -0600\n",
      "\n",
      "    numero uno\n",
      "\r\n",
      "C:\\Users\\lizma\\ta>type uno.txt\n",
      "hola\r\n",
      "prueba 1\r\n",
      "C:\\Users\\lizma\\ta>"
     ]
    }
   ],
   "source": [
    "%%cmd\n",
    "cd C:\\Users\\lizma\\ta\n",
    "git log\n",
    "type uno.txt"
   ]
  },
  {
   "cell_type": "code",
   "execution_count": 12,
   "metadata": {},
   "outputs": [
    {
     "name": "stdout",
     "output_type": "stream",
     "text": [
      "Microsoft Windows [Versi¢n 10.0.19041.746]\r\n",
      "(c) 2020 Microsoft Corporation. Todos los derechos reservados.\r\n",
      "\r\n",
      "C:\\Users\\lizma\\Downloads>cd C:\\Users\\lizma\\ta \n",
      "\r\n",
      "C:\\Users\\lizma\\ta>    git checkout 164c6685d7bd4b518cc6193ba4d59b6544e43a32\n",
      "\r\n",
      "C:\\Users\\lizma\\ta>    type uno.txt\n",
      "hola\r\n",
      "C:\\Users\\lizma\\ta>"
     ]
    },
    {
     "name": "stderr",
     "output_type": "stream",
     "text": [
      "HEAD is now at 164c668 numero uno\n"
     ]
    }
   ],
   "source": [
    "%%cmd\n",
    "cd C:\\Users\\lizma\\ta \n",
    "    git checkout 164c6685d7bd4b518cc6193ba4d59b6544e43a32\n",
    "    type uno.txt"
   ]
  },
  {
   "cell_type": "code",
   "execution_count": 14,
   "metadata": {},
   "outputs": [
    {
     "name": "stdout",
     "output_type": "stream",
     "text": [
      "Microsoft Windows [Versi¢n 10.0.19041.746]\r\n",
      "(c) 2020 Microsoft Corporation. Todos los derechos reservados.\r\n",
      "\r\n",
      "C:\\Users\\lizma\\Downloads>cd C:\\Users\\lizma\\ta \n",
      "\r\n",
      "C:\\Users\\lizma\\ta>    git log\n",
      "commit 164c6685d7bd4b518cc6193ba4d59b6544e43a32\n",
      "Author: LIZA GUZMAN <lizma.guzman@gmail.com>\n",
      "Date:   Wed Feb 10 19:49:05 2021 -0600\n",
      "\n",
      "    numero uno\n",
      "\r\n",
      "C:\\Users\\lizma\\ta>"
     ]
    }
   ],
   "source": [
    "%%cmd\n",
    "cd C:\\Users\\lizma\\ta \n",
    "    git log"
   ]
  },
  {
   "cell_type": "code",
   "execution_count": 15,
   "metadata": {},
   "outputs": [
    {
     "name": "stdout",
     "output_type": "stream",
     "text": [
      "Microsoft Windows [Versi¢n 10.0.19041.746]\r\n",
      "(c) 2020 Microsoft Corporation. Todos los derechos reservados.\r\n",
      "\r\n",
      "C:\\Users\\lizma\\Downloads>cd C:\\Users\\lizma\\ta \n",
      "\r\n",
      "C:\\Users\\lizma\\ta> git log --all --graph --decorate\n",
      "* commit 8bd5b0f3945d63c380cf57f1991da9f6848d61b8 (master)\n",
      "| Author: LIZA GUZMAN <lizma.guzman@gmail.com>\n",
      "| Date:   Wed Feb 10 22:11:33 2021 -0600\n",
      "| \n",
      "|     Primer Snapchot con hash\n",
      "| \n",
      "* commit 164c6685d7bd4b518cc6193ba4d59b6544e43a32 (HEAD, rama1)\n",
      "  Author: LIZA GUZMAN <lizma.guzman@gmail.com>\n",
      "  Date:   Wed Feb 10 19:49:05 2021 -0600\n",
      "  \n",
      "      numero uno\n",
      "\r\n",
      "C:\\Users\\lizma\\ta>"
     ]
    }
   ],
   "source": [
    "%%cmd\n",
    "cd C:\\Users\\lizma\\ta \n",
    " git log --all --graph --decorate"
   ]
  },
  {
   "cell_type": "code",
   "execution_count": 17,
   "metadata": {},
   "outputs": [
    {
     "name": "stdout",
     "output_type": "stream",
     "text": [
      "Microsoft Windows [Versi¢n 10.0.19041.746]\r\n",
      "(c) 2020 Microsoft Corporation. Todos los derechos reservados.\r\n",
      "\r\n",
      "C:\\Users\\lizma\\Downloads>cd C:\\Users\\lizma\\ta \n",
      "\r\n",
      "C:\\Users\\lizma\\ta>    git checkout 8bd5b0f3945d63c380cf57f1991da9f6848d61b8\n",
      "\r\n",
      "C:\\Users\\lizma\\ta>    type uno.txt\n",
      "hola\r\n",
      "prueba 1\r\n",
      "C:\\Users\\lizma\\ta>"
     ]
    },
    {
     "name": "stderr",
     "output_type": "stream",
     "text": [
      "HEAD is now at 8bd5b0f Primer Snapchot con hash\n"
     ]
    }
   ],
   "source": [
    "%%cmd\n",
    "cd C:\\Users\\lizma\\ta \n",
    "    git checkout 8bd5b0f3945d63c380cf57f1991da9f6848d61b8\n",
    "    type uno.txt"
   ]
  },
  {
   "cell_type": "code",
   "execution_count": 20,
   "metadata": {},
   "outputs": [
    {
     "name": "stdout",
     "output_type": "stream",
     "text": [
      "Microsoft Windows [Versi¢n 10.0.19041.746]\r\n",
      "(c) 2020 Microsoft Corporation. Todos los derechos reservados.\r\n",
      "\r\n",
      "C:\\Users\\lizma\\Downloads>cd C:\\Users\\lizma\\ta \n",
      "\r\n",
      "C:\\Users\\lizma\\ta>    git branch Numero1\n",
      "\r\n",
      "C:\\Users\\lizma\\ta>    git checkout Numero1\n",
      "\r\n",
      "C:\\Users\\lizma\\ta>    git log --all --graph --decorate\n",
      "* commit 8bd5b0f3945d63c380cf57f1991da9f6848d61b8 (HEAD -> Numero1, master)\n",
      "| Author: LIZA GUZMAN <lizma.guzman@gmail.com>\n",
      "| Date:   Wed Feb 10 22:11:33 2021 -0600\n",
      "| \n",
      "|     Primer Snapchot con hash\n",
      "| \n",
      "* commit 164c6685d7bd4b518cc6193ba4d59b6544e43a32 (rama1)\n",
      "  Author: LIZA GUZMAN <lizma.guzman@gmail.com>\n",
      "  Date:   Wed Feb 10 19:49:05 2021 -0600\n",
      "  \n",
      "      numero uno\n",
      "\r\n",
      "C:\\Users\\lizma\\ta>"
     ]
    },
    {
     "name": "stderr",
     "output_type": "stream",
     "text": [
      "fatal: A branch named 'Numero1' already exists.\n",
      "Already on 'Numero1'\n"
     ]
    }
   ],
   "source": [
    "%%cmd\n",
    "cd C:\\Users\\lizma\\ta \n",
    "    git branch Numero1\n",
    "    git checkout Numero1\n",
    "    git log --all --graph --decorate"
   ]
  },
  {
   "cell_type": "code",
   "execution_count": 22,
   "metadata": {},
   "outputs": [
    {
     "name": "stdout",
     "output_type": "stream",
     "text": [
      "Microsoft Windows [Versi¢n 10.0.19041.746]\r\n",
      "(c) 2020 Microsoft Corporation. Todos los derechos reservados.\r\n",
      "\r\n",
      "C:\\Users\\lizma\\Downloads>cd C:\\Users\\lizma\\ta \n",
      "\r\n",
      "C:\\Users\\lizma\\ta>    git status\n",
      "On branch Numero1\n",
      "Changes not staged for commit:\n",
      "  (use \"git add <file>...\" to update what will be committed)\n",
      "  (use \"git restore <file>...\" to discard changes in working directory)\n",
      "\tmodified:   uno.txt\n",
      "\n",
      "no changes added to commit (use \"git add\" and/or \"git commit -a\")\n",
      "\r\n",
      "C:\\Users\\lizma\\ta>    git add uno.txt\n",
      "\r\n",
      "C:\\Users\\lizma\\ta>    git commit uno.txt -m \"segunda prueba ya con Branch\"\n",
      "[Numero1 b272764] segunda prueba ya con Branch\n",
      " 1 file changed, 2 insertions(+), 1 deletion(-)\n",
      "\r\n",
      "C:\\Users\\lizma\\ta>"
     ]
    }
   ],
   "source": [
    "%%cmd\n",
    "cd C:\\Users\\lizma\\ta \n",
    "    git status\n",
    "    git add uno.txt\n",
    "    git commit uno.txt -m \"segunda prueba ya con Branch\""
   ]
  },
  {
   "cell_type": "code",
   "execution_count": 23,
   "metadata": {},
   "outputs": [
    {
     "name": "stdout",
     "output_type": "stream",
     "text": [
      "Microsoft Windows [Versi¢n 10.0.19041.746]\r\n",
      "(c) 2020 Microsoft Corporation. Todos los derechos reservados.\r\n",
      "\r\n",
      "C:\\Users\\lizma\\Downloads>cd C:\\Users\\lizma\\ta \n",
      "\r\n",
      "C:\\Users\\lizma\\ta>    \n",
      "C:\\Users\\lizma\\ta>    git log --all --graph --decorate\n",
      "* commit b2727644d6eeb90fd63343bab06cffc315d092a1 (HEAD -> Numero1)\n",
      "| Author: LIZA GUZMAN <lizma.guzman@gmail.com>\n",
      "| Date:   Wed Feb 10 22:20:35 2021 -0600\n",
      "| \n",
      "|     segunda prueba ya con Branch\n",
      "| \n",
      "* commit 8bd5b0f3945d63c380cf57f1991da9f6848d61b8 (master)\n",
      "| Author: LIZA GUZMAN <lizma.guzman@gmail.com>\n",
      "| Date:   Wed Feb 10 22:11:33 2021 -0600\n",
      "| \n",
      "|     Primer Snapchot con hash\n",
      "| \n",
      "* commit 164c6685d7bd4b518cc6193ba4d59b6544e43a32 (rama1)\n",
      "  Author: LIZA GUZMAN <lizma.guzman@gmail.com>\n",
      "  Date:   Wed Feb 10 19:49:05 2021 -0600\n",
      "  \n",
      "      numero uno\n",
      "\r\n",
      "C:\\Users\\lizma\\ta>"
     ]
    }
   ],
   "source": [
    "%%cmd\n",
    "cd C:\\Users\\lizma\\ta \n",
    "    \n",
    "    git log --all --graph --decorate"
   ]
  },
  {
   "cell_type": "code",
   "execution_count": 24,
   "metadata": {},
   "outputs": [
    {
     "name": "stdout",
     "output_type": "stream",
     "text": [
      "Microsoft Windows [Versi¢n 10.0.19041.746]\r\n",
      "(c) 2020 Microsoft Corporation. Todos los derechos reservados.\r\n",
      "\r\n",
      "C:\\Users\\lizma\\Downloads>cd C:\\Users\\lizma\\ta \n",
      "\r\n",
      "C:\\Users\\lizma\\ta>  \n",
      "C:\\Users\\lizma\\ta>    git checkout master\n",
      "\r\n",
      "C:\\Users\\lizma\\ta>    git log --all --graph --decorate\n",
      "* commit b2727644d6eeb90fd63343bab06cffc315d092a1 (Numero1)\n",
      "| Author: LIZA GUZMAN <lizma.guzman@gmail.com>\n",
      "| Date:   Wed Feb 10 22:20:35 2021 -0600\n",
      "| \n",
      "|     segunda prueba ya con Branch\n",
      "| \n",
      "* commit 8bd5b0f3945d63c380cf57f1991da9f6848d61b8 (HEAD -> master)\n",
      "| Author: LIZA GUZMAN <lizma.guzman@gmail.com>\n",
      "| Date:   Wed Feb 10 22:11:33 2021 -0600\n",
      "| \n",
      "|     Primer Snapchot con hash\n",
      "| \n",
      "* commit 164c6685d7bd4b518cc6193ba4d59b6544e43a32 (rama1)\n",
      "  Author: LIZA GUZMAN <lizma.guzman@gmail.com>\n",
      "  Date:   Wed Feb 10 19:49:05 2021 -0600\n",
      "  \n",
      "      numero uno\n",
      "\r\n",
      "C:\\Users\\lizma\\ta>"
     ]
    },
    {
     "name": "stderr",
     "output_type": "stream",
     "text": [
      "Switched to branch 'master'\n"
     ]
    }
   ],
   "source": [
    "%%cmd\n",
    "cd C:\\Users\\lizma\\ta \n",
    "  \n",
    "    git checkout master\n",
    "    git log --all --graph --decorate"
   ]
  },
  {
   "cell_type": "code",
   "execution_count": 25,
   "metadata": {},
   "outputs": [
    {
     "name": "stdout",
     "output_type": "stream",
     "text": [
      "Microsoft Windows [Versi¢n 10.0.19041.746]\r\n",
      "(c) 2020 Microsoft Corporation. Todos los derechos reservados.\r\n",
      "\r\n",
      "C:\\Users\\lizma\\Downloads>cd C:\\Users\\lizma\\ta \n",
      "\r\n",
      "C:\\Users\\lizma\\ta>git branch rama2\n",
      "\r\n",
      "C:\\Users\\lizma\\ta>git checkout rama2\n",
      "\r\n",
      "C:\\Users\\lizma\\ta> git log --all --graph --decorate\n",
      "* commit b2727644d6eeb90fd63343bab06cffc315d092a1 (Numero1)\n",
      "| Author: LIZA GUZMAN <lizma.guzman@gmail.com>\n",
      "| Date:   Wed Feb 10 22:20:35 2021 -0600\n",
      "| \n",
      "|     segunda prueba ya con Branch\n",
      "| \n",
      "* commit 8bd5b0f3945d63c380cf57f1991da9f6848d61b8 (HEAD -> rama2, master)\n",
      "| Author: LIZA GUZMAN <lizma.guzman@gmail.com>\n",
      "| Date:   Wed Feb 10 22:11:33 2021 -0600\n",
      "| \n",
      "|     Primer Snapchot con hash\n",
      "| \n",
      "* commit 164c6685d7bd4b518cc6193ba4d59b6544e43a32 (rama1)\n",
      "  Author: LIZA GUZMAN <lizma.guzman@gmail.com>\n",
      "  Date:   Wed Feb 10 19:49:05 2021 -0600\n",
      "  \n",
      "      numero uno\n",
      "\r\n",
      "C:\\Users\\lizma\\ta>"
     ]
    },
    {
     "name": "stderr",
     "output_type": "stream",
     "text": [
      "Switched to branch 'rama2'\n"
     ]
    }
   ],
   "source": [
    "%%cmd\n",
    "cd C:\\Users\\lizma\\ta \n",
    "git branch rama2\n",
    "git checkout rama2\n",
    " git log --all --graph --decorate\n"
   ]
  },
  {
   "cell_type": "code",
   "execution_count": 27,
   "metadata": {},
   "outputs": [
    {
     "name": "stdout",
     "output_type": "stream",
     "text": [
      "Microsoft Windows [Versi¢n 10.0.19041.746]\r\n",
      "(c) 2020 Microsoft Corporation. Todos los derechos reservados.\r\n",
      "\r\n",
      "C:\\Users\\lizma\\Downloads>cd C:\\Users\\lizma\\ta \n",
      "\r\n",
      "C:\\Users\\lizma\\ta>    git add uno.txt\n",
      "\r\n",
      "C:\\Users\\lizma\\ta>    git commit -m \"rama2\"\n",
      "On branch rama2\n",
      "nothing to commit, working tree clean\n",
      "\r\n",
      "C:\\Users\\lizma\\ta>     git log --all --graph --decorate\n",
      "* commit b772dcecf87375863945d3fbb4d383a8fe724435 (HEAD -> rama2)\n",
      "| Author: LIZA GUZMAN <lizma.guzman@gmail.com>\n",
      "| Date:   Wed Feb 10 22:24:27 2021 -0600\n",
      "| \n",
      "|     rama2\n",
      "|   \n",
      "| * commit b2727644d6eeb90fd63343bab06cffc315d092a1 (Numero1)\n",
      "|/  Author: LIZA GUZMAN <lizma.guzman@gmail.com>\n",
      "|   Date:   Wed Feb 10 22:20:35 2021 -0600\n",
      "|   \n",
      "|       segunda prueba ya con Branch\n",
      "| \n",
      "* commit 8bd5b0f3945d63c380cf57f1991da9f6848d61b8 (master)\n",
      "| Author: LIZA GUZMAN <lizma.guzman@gmail.com>\n",
      "| Date:   Wed Feb 10 22:11:33 2021 -0600\n",
      "| \n",
      "|     Primer Snapchot con hash\n",
      "| \n",
      "* commit 164c6685d7bd4b518cc6193ba4d59b6544e43a32 (rama1)\n",
      "  Author: LIZA GUZMAN <lizma.guzman@gmail.com>\n",
      "  Date:   Wed Feb 10 19:49:05 2021 -0600\n",
      "  \n",
      "      numero uno\n",
      "\r\n",
      "C:\\Users\\lizma\\ta>"
     ]
    }
   ],
   "source": [
    "%%cmd\n",
    "cd C:\\Users\\lizma\\ta \n",
    "    git add uno.txt\n",
    "    git commit -m \"rama2\"\n",
    "     git log --all --graph --decorate"
   ]
  },
  {
   "cell_type": "code",
   "execution_count": 29,
   "metadata": {},
   "outputs": [
    {
     "name": "stdout",
     "output_type": "stream",
     "text": [
      "Microsoft Windows [Versi¢n 10.0.19041.746]\r\n",
      "(c) 2020 Microsoft Corporation. Todos los derechos reservados.\r\n",
      "\r\n",
      "C:\\Users\\lizma\\Downloads>cd C:\\Users\\lizma\\ta \n",
      "\r\n",
      "C:\\Users\\lizma\\ta>    git checkout Numero1\n",
      "\r\n",
      "C:\\Users\\lizma\\ta>    type uno.txt\n",
      "hola\r\n",
      "prueba 1\r\n",
      "prueba de 1\r\n",
      "C:\\Users\\lizma\\ta>"
     ]
    },
    {
     "name": "stderr",
     "output_type": "stream",
     "text": [
      "Switched to branch 'Numero1'\n"
     ]
    }
   ],
   "source": [
    "%%cmd\n",
    "cd C:\\Users\\lizma\\ta \n",
    "    git checkout Numero1\n",
    "    type uno.txt"
   ]
  },
  {
   "cell_type": "code",
   "execution_count": null,
   "metadata": {},
   "outputs": [],
   "source": []
  }
 ],
 "metadata": {
  "kernelspec": {
   "display_name": "Python 3",
   "language": "python",
   "name": "python3"
  },
  "language_info": {
   "codemirror_mode": {
    "name": "ipython",
    "version": 3
   },
   "file_extension": ".py",
   "mimetype": "text/x-python",
   "name": "python",
   "nbconvert_exporter": "python",
   "pygments_lexer": "ipython3",
   "version": "3.8.5"
  }
 },
 "nbformat": 4,
 "nbformat_minor": 4
}
