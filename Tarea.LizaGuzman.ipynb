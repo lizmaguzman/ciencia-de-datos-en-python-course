{
 "cells": [
  {
   "cell_type": "markdown",
   "metadata": {},
   "source": [
    "## FUNCIONES EN PYTHON ##"
   ]
  },
  {
   "cell_type": "markdown",
   "metadata": {},
   "source": [
    "### Funciones en python \n",
    "Son bloques o conjuntos de código que ejecutan una instrucción o tarea de forma aislada al resto código."
   ]
  },
  {
   "cell_type": "code",
   "execution_count": null,
   "metadata": {},
   "outputs": [],
   "source": [
    "##numero = 10\n",
    "def par(numero):\n",
    "    if numero % 2 == 0:\n",
    "         return print(\"Si es par\" )\n",
    "    else:\n",
    "        return print(\"No es par\")\n",
    "    \n",
    "par(8)  \n",
    " \n"
   ]
  },
  {
   "cell_type": "markdown",
   "metadata": {},
   "source": [
    "### Parámetros Posicionales ###\n",
    "\n",
    "\n",
    "Cuando llamamos a una función los valores se asignan a los paramétros en el mismo orden en el que los llamamos."
   ]
  },
  {
   "cell_type": "code",
   "execution_count": null,
   "metadata": {},
   "outputs": [],
   "source": [
    "def linea(nombre, saludo,mensaje2):\n",
    "    print((nombre, saludo, mensaje2))\n",
    "linea(\"Liza Maria\", \"Guzman\",\" Es la clase de Python\")"
   ]
  },
  {
   "cell_type": "markdown",
   "metadata": {},
   "source": [
    "### Parámetros Nombrados ###\n",
    "\n",
    "Es cuando nosotros podemos llamar a una función y enviar en cualquier orden los parámetros. Pero el orden de la salida siempre será el especificado en la función. Si no se especifica valor del parámetro debe de colocarse al inicio.\n",
    "Ej:\n"
   ]
  },
  {
   "cell_type": "code",
   "execution_count": null,
   "metadata": {},
   "outputs": [],
   "source": [
    "linea(mensaje2= \"Clase de Python\",saludo=\"Guzman\", nombre=\"Liza Maria\")\n",
    "\n",
    "linea(nombre=\"Liza Maria\", saludo=\"Guzman\", mensaje2= \"Clase de Python\")\n",
    "\n",
    "linea(\"Liza Maria\",mensaje2= \"Clase de Python\", saludo=\"Guzman\")\n",
    "\n",
    "linea(\"como estas\",mensaje2= \"Clase de Python\", saludo=\"Guzman\")\n",
    "\n",
    "## Este ejemplo da error debido a que cualquier valor que no se especifique el nombre del parametro debe de colocarse al inicio\n",
    "##saludo(mensaje=\"¿cómo estás?\",\"Liza Maria\",mensaje2= \"Clase de Python\" )\n"
   ]
  },
  {
   "cell_type": "markdown",
   "metadata": {},
   "source": [
    "### Retorno de múltiples valores ###\n",
    "\n",
    "Es cuando una función puede devolver diferentes valores en el tiempo , asignando diferentes variables y valor o valores de entrada de la función declarada."
   ]
  },
  {
   "cell_type": "code",
   "execution_count": null,
   "metadata": {},
   "outputs": [],
   "source": [
    "\n",
    "def tablas_multiplicar (x):\n",
    "    nueve = x*9\n",
    "    ocho =  x*8\n",
    "    siete = x*7\n",
    "    return nueve,ocho,siete \n",
    "##grupo de valores 1\n",
    "valor1=tablas_multiplicar(9)\n",
    "##grupo de valores 2\n",
    "t9,t8,t7 = tablas_multiplicar(7)\n",
    "valor2=(t9,t8,t7)\n",
    "##grupo de valores 3\n",
    "seis = tablas_multiplicar(6)\n",
    "valor3=seis\n",
    "\n",
    "print(valor1)\n",
    "print(valor2)\n",
    "print(valor3)\n",
    "\n"
   ]
  },
  {
   "cell_type": "markdown",
   "metadata": {},
   "source": [
    "### Funciones cómo objetos y cómo parametros de otras funciones ###"
   ]
  },
  {
   "cell_type": "code",
   "execution_count": null,
   "metadata": {},
   "outputs": [],
   "source": [
    "## Ejemplo de funcion como objeto\n",
    "def uno(x,z):\n",
    "    return (x*z)+5\n",
    "## Aqui indico que objeto reciba una funcion\n",
    "def objeto(funcion,x,z):\n",
    "    return funcion(x,z)\n",
    "## Aqui mando a llamar la funcion uno y envio los valores que declare en esa funcion\n",
    "validar=objeto(uno,6,4)\n",
    "print(\"Es True o False que el numero\",validar,\"es menor a 30:\",validar<30)"
   ]
  },
  {
   "cell_type": "code",
   "execution_count": null,
   "metadata": {},
   "outputs": [],
   "source": [
    "##Ejemplo de funciones como argumento\n",
    "def mensaje():\n",
    "    letras = [\"a\",\"b\",\"c\",\"d\",\"e\",\"a\"]\n",
    "    return letras\n"
   ]
  },
  {
   "cell_type": "code",
   "execution_count": null,
   "metadata": {},
   "outputs": [],
   "source": [
    "from collections import Counter\n",
    "counter = Counter(mensaje)\n",
    "print(counter)\n"
   ]
  },
  {
   "cell_type": "markdown",
   "metadata": {},
   "source": [
    "### Funciones anónimas o lambda ###\n",
    "\n",
    "A las funciones lambda también son llamadas anónimas , porque carecen de nombre. Son funciones que se definen en una línea que ejecuta una expresion. Y devuelven un solo valor .No se definen como las demás funciones con def.\n",
    "Ej:"
   ]
  },
  {
   "cell_type": "code",
   "execution_count": null,
   "metadata": {},
   "outputs": [],
   "source": [
    "import pandas as pd\n",
    "import numpy as np\n",
    "ejemplo = lambda num: num-14\n",
    "\n",
    "ejemplo(20)\n"
   ]
  },
  {
   "cell_type": "code",
   "execution_count": null,
   "metadata": {},
   "outputs": [],
   "source": []
  }
 ],
 "metadata": {
  "kernelspec": {
   "display_name": "Python 3",
   "language": "python",
   "name": "python3"
  },
  "language_info": {
   "codemirror_mode": {
    "name": "ipython",
    "version": 3
   },
   "file_extension": ".py",
   "mimetype": "text/x-python",
   "name": "python",
   "nbconvert_exporter": "python",
   "pygments_lexer": "ipython3",
   "version": "3.8.5"
  }
 },
 "nbformat": 4,
 "nbformat_minor": 4
}
